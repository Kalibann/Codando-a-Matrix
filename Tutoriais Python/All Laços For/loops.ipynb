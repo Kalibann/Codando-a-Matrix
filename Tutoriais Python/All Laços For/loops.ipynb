{
 "cells": [
  {
   "cell_type": "markdown",
   "id": "9f2f451e",
   "metadata": {},
   "source": [
    "# Tudo Sobre Loops em Python – Tutorial Rápido e Detalhado"
   ]
  },
  {
   "cell_type": "markdown",
   "id": "405d0d2c",
   "metadata": {},
   "source": [
    "## Seção 1: Loops Básicos "
   ]
  },
  {
   "cell_type": "markdown",
   "id": "66a2c76a",
   "metadata": {},
   "source": [
    "#### Loop for Simples"
   ]
  },
  {
   "cell_type": "code",
   "execution_count": null,
   "id": "02d316c2",
   "metadata": {},
   "outputs": [],
   "source": [
    "for i in range(5, -1, -1):\n",
    "    print(f\"Número: {i}\")"
   ]
  },
  {
   "cell_type": "markdown",
   "id": "20f65892",
   "metadata": {},
   "source": [
    "#### Loop while"
   ]
  },
  {
   "cell_type": "code",
   "execution_count": 1,
   "id": "abdad05a",
   "metadata": {},
   "outputs": [
    {
     "name": "stdout",
     "output_type": "stream",
     "text": [
      "Contagem: 0\n",
      "Contagem: 1\n",
      "Contagem: 2\n",
      "Contagem: 3\n",
      "Contagem: 4\n",
      "Contagem: 5\n"
     ]
    }
   ],
   "source": [
    "x = 0\n",
    "while x <= 5:\n",
    "    print(f\"Contagem: {x}\")\n",
    "    x += 1"
   ]
  },
  {
   "cell_type": "markdown",
   "id": "3a7b9c44",
   "metadata": {},
   "source": [
    "#### Usando Condições no Loop"
   ]
  },
  {
   "cell_type": "code",
   "execution_count": 2,
   "id": "63acebe7",
   "metadata": {},
   "outputs": [
    {
     "name": "stdout",
     "output_type": "stream",
     "text": [
      "Número par: 2\n",
      "Número par: 4\n"
     ]
    }
   ],
   "source": [
    "numeros = [1, 2, 3, 4, 5]\n",
    "for num in numeros:\n",
    "    if num % 2 == 0:\n",
    "        print(f\"Número par: {num}\")"
   ]
  },
  {
   "cell_type": "markdown",
   "id": "2730b17f",
   "metadata": {},
   "source": [
    "## Seção 2: Loops Intermediários"
   ]
  },
  {
   "cell_type": "markdown",
   "id": "80d483e5",
   "metadata": {},
   "source": [
    "#### Usando enumerate"
   ]
  },
  {
   "cell_type": "code",
   "execution_count": 3,
   "id": "29b2316c",
   "metadata": {},
   "outputs": [
    {
     "name": "stdout",
     "output_type": "stream",
     "text": [
      "0: maçã\n",
      "1: banana\n",
      "2: cereja\n"
     ]
    }
   ],
   "source": [
    "frutas = ['maçã', 'banana', 'cereja']\n",
    "for idx, fruta in enumerate(frutas):\n",
    "    print(f\"{idx}: {fruta}\")"
   ]
  },
  {
   "cell_type": "markdown",
   "id": "cbf18665",
   "metadata": {},
   "source": [
    "#### Iteração Paralela com zip"
   ]
  },
  {
   "cell_type": "code",
   "execution_count": 4,
   "id": "4b6a33f2",
   "metadata": {},
   "outputs": [
    {
     "name": "stdout",
     "output_type": "stream",
     "text": [
      "Alice tem 25 anos\n",
      "Bob tem 30 anos\n"
     ]
    }
   ],
   "source": [
    "nomes = ['Alice', 'Bob']\n",
    "idades = [25, 30]\n",
    "for nome, idade in zip(nomes, idades):\n",
    "    print(f\"{nome} tem {idade} anos\")"
   ]
  },
  {
   "cell_type": "markdown",
   "id": "66281b86",
   "metadata": {},
   "source": [
    "#### Iterando Sobre Dicionários"
   ]
  },
  {
   "cell_type": "code",
   "execution_count": 5,
   "id": "9aa31635",
   "metadata": {},
   "outputs": [
    {
     "name": "stdout",
     "output_type": "stream",
     "text": [
      "nome: Alice\n",
      "idade: 25\n",
      "cidade: São Paulo\n"
     ]
    }
   ],
   "source": [
    "dados = {'nome': 'Alice', 'idade': 25, 'cidade': 'São Paulo'}\n",
    "for chave, valor in dados.items():\n",
    "    print(f\"{chave}: {valor}\")"
   ]
  },
  {
   "cell_type": "code",
   "execution_count": 6,
   "id": "8b421d2a",
   "metadata": {},
   "outputs": [
    {
     "data": {
      "text/plain": [
       "dict_items([('nome', 'Alice'), ('idade', 25), ('cidade', 'São Paulo')])"
      ]
     },
     "execution_count": 6,
     "metadata": {},
     "output_type": "execute_result"
    }
   ],
   "source": [
    "dados.items()"
   ]
  },
  {
   "cell_type": "markdown",
   "id": "0a347127",
   "metadata": {},
   "source": [
    "## Seção 3: Trabalhando com DataFrames (pandas)"
   ]
  },
  {
   "cell_type": "markdown",
   "id": "1bf598b3",
   "metadata": {},
   "source": [
    "#### Iterando com iterrows"
   ]
  },
  {
   "cell_type": "code",
   "execution_count": 7,
   "id": "fffcd2fe",
   "metadata": {},
   "outputs": [
    {
     "name": "stdout",
     "output_type": "stream",
     "text": [
      "Requirement already satisfied: pandas in c:\\users\\sonata\\anaconda3\\lib\\site-packages (1.5.3)\n",
      "Requirement already satisfied: pytz>=2020.1 in c:\\users\\sonata\\anaconda3\\lib\\site-packages (from pandas) (2022.7)\n",
      "Requirement already satisfied: numpy>=1.21.0 in c:\\users\\sonata\\anaconda3\\lib\\site-packages (from pandas) (1.23.5)\n",
      "Requirement already satisfied: python-dateutil>=2.8.1 in c:\\users\\sonata\\anaconda3\\lib\\site-packages (from pandas) (2.8.2)\n",
      "Requirement already satisfied: six>=1.5 in c:\\users\\sonata\\anaconda3\\lib\\site-packages (from python-dateutil>=2.8.1->pandas) (1.16.0)\n"
     ]
    }
   ],
   "source": [
    "!pip install pandas"
   ]
  },
  {
   "cell_type": "code",
   "execution_count": 8,
   "id": "d6b3ec28",
   "metadata": {},
   "outputs": [
    {
     "data": {
      "text/html": [
       "<div>\n",
       "<style scoped>\n",
       "    .dataframe tbody tr th:only-of-type {\n",
       "        vertical-align: middle;\n",
       "    }\n",
       "\n",
       "    .dataframe tbody tr th {\n",
       "        vertical-align: top;\n",
       "    }\n",
       "\n",
       "    .dataframe thead th {\n",
       "        text-align: right;\n",
       "    }\n",
       "</style>\n",
       "<table border=\"1\" class=\"dataframe\">\n",
       "  <thead>\n",
       "    <tr style=\"text-align: right;\">\n",
       "      <th></th>\n",
       "      <th>nome</th>\n",
       "      <th>idade</th>\n",
       "    </tr>\n",
       "  </thead>\n",
       "  <tbody>\n",
       "    <tr>\n",
       "      <th>0</th>\n",
       "      <td>Alice</td>\n",
       "      <td>25</td>\n",
       "    </tr>\n",
       "    <tr>\n",
       "      <th>1</th>\n",
       "      <td>Bob</td>\n",
       "      <td>30</td>\n",
       "    </tr>\n",
       "  </tbody>\n",
       "</table>\n",
       "</div>"
      ],
      "text/plain": [
       "    nome  idade\n",
       "0  Alice     25\n",
       "1    Bob     30"
      ]
     },
     "execution_count": 8,
     "metadata": {},
     "output_type": "execute_result"
    }
   ],
   "source": [
    "import pandas as pd\n",
    "\n",
    "df = pd.DataFrame({'nome': ['Alice', 'Bob'], 'idade': [25, 30]})\n",
    "df"
   ]
  },
  {
   "cell_type": "code",
   "execution_count": 9,
   "id": "c89e358e",
   "metadata": {},
   "outputs": [
    {
     "name": "stdout",
     "output_type": "stream",
     "text": [
      "Nome: Alice, Idade: 25\n",
      "35\n",
      "Nome: Bob, Idade: 30\n",
      "40\n"
     ]
    }
   ],
   "source": [
    "for index, row in df.iterrows():\n",
    "    print(f\"Nome: {row['nome']}, Idade: {row['idade']}\")\n",
    "    print(f\"{row['idade'] + 10}\")"
   ]
  },
  {
   "cell_type": "markdown",
   "id": "1cf29283",
   "metadata": {},
   "source": [
    "#### Usando apply para Eficiência"
   ]
  },
  {
   "cell_type": "code",
   "execution_count": 14,
   "id": "0cc59c25",
   "metadata": {},
   "outputs": [],
   "source": [
    "def soma_idade(x):\n",
    "    return x + 20"
   ]
  },
  {
   "cell_type": "code",
   "execution_count": 15,
   "id": "257a6fe5",
   "metadata": {},
   "outputs": [
    {
     "data": {
      "text/html": [
       "<div>\n",
       "<style scoped>\n",
       "    .dataframe tbody tr th:only-of-type {\n",
       "        vertical-align: middle;\n",
       "    }\n",
       "\n",
       "    .dataframe tbody tr th {\n",
       "        vertical-align: top;\n",
       "    }\n",
       "\n",
       "    .dataframe thead th {\n",
       "        text-align: right;\n",
       "    }\n",
       "</style>\n",
       "<table border=\"1\" class=\"dataframe\">\n",
       "  <thead>\n",
       "    <tr style=\"text-align: right;\">\n",
       "      <th></th>\n",
       "      <th>nome</th>\n",
       "      <th>idade</th>\n",
       "      <th>nova_idade</th>\n",
       "    </tr>\n",
       "  </thead>\n",
       "  <tbody>\n",
       "    <tr>\n",
       "      <th>0</th>\n",
       "      <td>Alice</td>\n",
       "      <td>25</td>\n",
       "      <td>45</td>\n",
       "    </tr>\n",
       "    <tr>\n",
       "      <th>1</th>\n",
       "      <td>Bob</td>\n",
       "      <td>30</td>\n",
       "      <td>50</td>\n",
       "    </tr>\n",
       "  </tbody>\n",
       "</table>\n",
       "</div>"
      ],
      "text/plain": [
       "    nome  idade  nova_idade\n",
       "0  Alice     25          45\n",
       "1    Bob     30          50"
      ]
     },
     "execution_count": 15,
     "metadata": {},
     "output_type": "execute_result"
    }
   ],
   "source": [
    "df['nova_idade'] = df['idade'].apply(soma_idade)\n",
    "df"
   ]
  },
  {
   "cell_type": "markdown",
   "id": "793b606a",
   "metadata": {},
   "source": [
    "#### Agrupando Dados com groupby"
   ]
  },
  {
   "cell_type": "code",
   "execution_count": 16,
   "id": "5a7bbb38",
   "metadata": {},
   "outputs": [
    {
     "data": {
      "text/html": [
       "<div>\n",
       "<style scoped>\n",
       "    .dataframe tbody tr th:only-of-type {\n",
       "        vertical-align: middle;\n",
       "    }\n",
       "\n",
       "    .dataframe tbody tr th {\n",
       "        vertical-align: top;\n",
       "    }\n",
       "\n",
       "    .dataframe thead th {\n",
       "        text-align: right;\n",
       "    }\n",
       "</style>\n",
       "<table border=\"1\" class=\"dataframe\">\n",
       "  <thead>\n",
       "    <tr style=\"text-align: right;\">\n",
       "      <th></th>\n",
       "      <th>grupo</th>\n",
       "      <th>valor</th>\n",
       "    </tr>\n",
       "  </thead>\n",
       "  <tbody>\n",
       "    <tr>\n",
       "      <th>0</th>\n",
       "      <td>A</td>\n",
       "      <td>10</td>\n",
       "    </tr>\n",
       "    <tr>\n",
       "      <th>1</th>\n",
       "      <td>B</td>\n",
       "      <td>20</td>\n",
       "    </tr>\n",
       "    <tr>\n",
       "      <th>2</th>\n",
       "      <td>A</td>\n",
       "      <td>30</td>\n",
       "    </tr>\n",
       "  </tbody>\n",
       "</table>\n",
       "</div>"
      ],
      "text/plain": [
       "  grupo  valor\n",
       "0     A     10\n",
       "1     B     20\n",
       "2     A     30"
      ]
     },
     "execution_count": 16,
     "metadata": {},
     "output_type": "execute_result"
    }
   ],
   "source": [
    "df = pd.DataFrame({'grupo': ['A', 'B', 'A'], 'valor': [10, 20, 30]})\n",
    "df"
   ]
  },
  {
   "cell_type": "code",
   "execution_count": 17,
   "id": "0bbb3ded",
   "metadata": {},
   "outputs": [
    {
     "name": "stdout",
     "output_type": "stream",
     "text": [
      "Grupo: A\n",
      "  grupo  valor\n",
      "0     A     10\n",
      "2     A     30\n",
      "________________\n",
      "Grupo: B\n",
      "  grupo  valor\n",
      "1     B     20\n",
      "________________\n"
     ]
    }
   ],
   "source": [
    "for grupo, sub_df in df.groupby('grupo'):\n",
    "    print(f\"Grupo: {grupo}\")\n",
    "    print(sub_df)\n",
    "    print(\"________________\")"
   ]
  },
  {
   "cell_type": "markdown",
   "id": "e4607cef",
   "metadata": {},
   "source": [
    "## Seção 4: Paralelismo com multiprocessing"
   ]
  },
  {
   "cell_type": "markdown",
   "id": "9345fffc",
   "metadata": {},
   "source": [
    "#### Paralelismo Básico"
   ]
  },
  {
   "cell_type": "code",
   "execution_count": 18,
   "id": "2fdf99bf",
   "metadata": {},
   "outputs": [
    {
     "name": "stdout",
     "output_type": "stream",
     "text": [
      "[0, 1, 4, 9, 16, 25, 36, 49, 64, 81]\n"
     ]
    }
   ],
   "source": [
    "from concurrent.futures import ThreadPoolExecutor\n",
    "\n",
    "def trabalho(x):\n",
    "    return x**2\n",
    "\n",
    "with ThreadPoolExecutor(max_workers=4) as executor:\n",
    "    resultados = list(executor.map(trabalho, range(10)))\n",
    "\n",
    "print(resultados)"
   ]
  },
  {
   "cell_type": "code",
   "execution_count": null,
   "id": "5fcce4af",
   "metadata": {},
   "outputs": [],
   "source": [
    "_ = \"\"\"\n",
    "\n",
    "1 Processo: [0] -> [1] -> [2] -> [3] -> [4] -> [5] -> [6] -> [7] -> [8] -> [9]\n",
    "\n",
    "4 Threads: \n",
    "Thread 1: [0] ----> [4] ----> [8]\n",
    "Thread 2: [1] ----> [5] ----> [9]\n",
    "Thread 3: [2] ----> [6]\n",
    "Thread 4: [3] ----> [7]\n",
    "\n",
    "\"\"\""
   ]
  },
  {
   "cell_type": "code",
   "execution_count": null,
   "id": "793f6abc",
   "metadata": {},
   "outputs": [],
   "source": []
  }
 ],
 "metadata": {
  "kernelspec": {
   "display_name": "Python 3 (ipykernel)",
   "language": "python",
   "name": "python3"
  },
  "language_info": {
   "codemirror_mode": {
    "name": "ipython",
    "version": 3
   },
   "file_extension": ".py",
   "mimetype": "text/x-python",
   "name": "python",
   "nbconvert_exporter": "python",
   "pygments_lexer": "ipython3",
   "version": "3.10.9"
  }
 },
 "nbformat": 4,
 "nbformat_minor": 5
}
